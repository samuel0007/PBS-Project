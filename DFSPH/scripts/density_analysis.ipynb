{
 "cells": [
  {
   "cell_type": "code",
   "execution_count": 96,
   "metadata": {},
   "outputs": [],
   "source": [
    "import matplotlib.pyplot as plt\n",
    "import numpy as np\n",
    "\n",
    "max_frame = 50\n",
    "result_dir = '../results/run_5/'\n",
    "\n",
    "density_files = [f\"{result_dir}frame_density_{i}.npy\" for i in range(max_frame)]\n",
    "position_files = [f\"{result_dir}frame_{i}.npy\" for i in range(max_frame)]\n",
    "\n",
    "density_data = [np.load(density_files[i]) for i in range(max_frame)]\n",
    "pos_data = [np.load(position_files[i]) for i in range(max_frame)]"
   ]
  },
  {
   "cell_type": "code",
   "execution_count": 97,
   "metadata": {},
   "outputs": [
    {
     "data": {
      "text/plain": [
       "(array([[ 4.,  0.,  0.,  0.,  0.,  0.,  0.,  0., 32.,  0.,  0.,  0.,  0.,\n",
       "          0.,  0.,  0.,  0.,  0., 80.,  0.,  0.,  0.,  0.,  0.,  0.,  0.,\n",
       "          0.,  0.,  0.,  0., 64.,  0.,  0.,  0.,  0.,  0.,  0.,  0.,  0.,\n",
       "          0.,  0.,  0.,  0.,  0.,  0.,  0.,  0.,  0.,  0.,  0.,  0.,  0.,\n",
       "          0.,  0.,  0.,  0.,  0.,  0.,  0.,  0.,  0.,  4.,  0.,  0.,  0.,\n",
       "          0.,  0.,  0.,  0.,  0., 16.,  0.,  0.,  0.,  0.,  0.,  0.,  0.,\n",
       "          0.,  0., 16.,  0.,  0.,  0.,  0.,  0.,  0.,  0.,  0.,  0.,  0.,\n",
       "          0.,  0.,  0.,  0.,  0.,  0.,  0.,  0., 84.],\n",
       "        [ 4.,  0.,  0.,  0.,  0.,  0.,  0.,  0., 32.,  0.,  0.,  0.,  0.,\n",
       "          0.,  0.,  0.,  0.,  0., 80.,  0.,  0.,  0.,  0.,  0.,  0.,  0.,\n",
       "          0.,  0.,  0.,  0., 64.,  0.,  0.,  0.,  0.,  0.,  0.,  0.,  0.,\n",
       "          0.,  0.,  0.,  0.,  0.,  0.,  0.,  0.,  0.,  0.,  0.,  0.,  0.,\n",
       "          0.,  0.,  0.,  0.,  0.,  0.,  0.,  0.,  0.,  4.,  0.,  0.,  0.,\n",
       "          0.,  0.,  0.,  0.,  0., 16.,  0.,  0.,  0.,  0.,  0.,  0.,  0.,\n",
       "          0.,  0., 16.,  0.,  0.,  0.,  0.,  0.,  0.,  0.,  0.,  0.,  0.,\n",
       "          0.,  0.,  0.,  0.,  0.,  0.,  0.,  0., 84.],\n",
       "        [ 4.,  0.,  0.,  0.,  0.,  0.,  0.,  0., 32.,  0.,  0.,  0.,  0.,\n",
       "          0.,  0.,  0.,  0.,  0., 80.,  0.,  0.,  0.,  0.,  0.,  0.,  0.,\n",
       "          0.,  0.,  0.,  0., 64.,  0.,  0.,  0.,  0.,  0.,  0.,  0.,  0.,\n",
       "          0.,  0.,  0.,  0.,  0.,  0.,  0.,  0.,  0.,  0.,  0.,  0.,  0.,\n",
       "          0.,  0.,  0.,  0.,  0.,  0.,  0.,  0.,  0.,  4.,  0.,  0.,  0.,\n",
       "          0.,  0.,  0.,  0.,  0., 16.,  0.,  0.,  0.,  0.,  0.,  0.,  0.,\n",
       "          0.,  0., 16.,  0.,  0.,  0.,  0.,  0.,  0.,  0.,  0.,  0.,  0.,\n",
       "          0.,  0.,  0.,  0.,  0.,  0.,  0.,  0., 84.],\n",
       "        [ 4.,  0.,  0.,  0.,  0.,  0.,  0.,  0., 32.,  0.,  0.,  0.,  0.,\n",
       "          0.,  0.,  0.,  0.,  0., 80.,  0.,  0.,  0.,  0.,  0.,  0.,  0.,\n",
       "          0.,  0.,  0.,  0., 64.,  0.,  0.,  0.,  0.,  0.,  0.,  0.,  0.,\n",
       "          0.,  0.,  0.,  0.,  0.,  0.,  0.,  0.,  0.,  0.,  0.,  0.,  0.,\n",
       "          0.,  0.,  0.,  0.,  0.,  0.,  0.,  0.,  0.,  4.,  0.,  0.,  0.,\n",
       "          0.,  0.,  0.,  0.,  0., 16.,  0.,  0.,  0.,  0.,  0.,  0.,  0.,\n",
       "          0.,  0., 16.,  0.,  0.,  0.,  0.,  0.,  0.,  0.,  0.,  0.,  0.,\n",
       "          0.,  0.,  0.,  0.,  0.,  0.,  0.,  0., 84.],\n",
       "        [ 4.,  0.,  0.,  0.,  0.,  0.,  0.,  0., 32.,  0.,  0.,  0.,  0.,\n",
       "          0.,  0.,  0.,  0.,  0., 80.,  0.,  0.,  0.,  0.,  0.,  0.,  0.,\n",
       "          0.,  0.,  0.,  0., 64.,  0.,  0.,  0.,  0.,  0.,  0.,  0.,  0.,\n",
       "          0.,  0.,  0.,  0.,  0.,  0.,  0.,  0.,  0.,  0.,  0.,  0.,  0.,\n",
       "          0.,  0.,  0.,  0.,  0.,  0.,  0.,  0.,  0.,  4.,  0.,  0.,  0.,\n",
       "          0.,  0.,  0.,  0.,  0., 16.,  0.,  0.,  0.,  0.,  0.,  0.,  0.,\n",
       "          0.,  0., 16.,  0.,  0.,  0.,  0.,  0.,  0.,  0.,  0.,  0.,  0.,\n",
       "          0.,  0.,  0.,  0.,  0.,  0.,  0.,  0., 84.],\n",
       "        [ 4.,  0.,  0.,  0.,  0.,  0.,  0.,  0., 32.,  0.,  0.,  0.,  0.,\n",
       "          0.,  0.,  0.,  0.,  0., 80.,  0.,  0.,  0.,  0.,  0.,  0.,  0.,\n",
       "          0.,  0.,  0.,  0., 64.,  0.,  0.,  0.,  0.,  0.,  0.,  0.,  0.,\n",
       "          0.,  0.,  0.,  0.,  0.,  0.,  0.,  0.,  0.,  0.,  0.,  0.,  0.,\n",
       "          0.,  0.,  0.,  0.,  0.,  0.,  0.,  0.,  0.,  4.,  0.,  0.,  0.,\n",
       "          0.,  0.,  0.,  0.,  0., 16.,  0.,  0.,  0.,  0.,  0.,  0.,  0.,\n",
       "          0.,  0., 16.,  0.,  0.,  0.,  0.,  0.,  0.,  0.,  0.,  0.,  0.,\n",
       "          0.,  0.,  0.,  0.,  0.,  0.,  0.,  0., 84.],\n",
       "        [ 4.,  0.,  0.,  0.,  0.,  0.,  0.,  0., 32.,  0.,  0.,  0.,  0.,\n",
       "          0.,  0.,  0.,  0.,  0., 80.,  0.,  0.,  0.,  0.,  0.,  0.,  0.,\n",
       "          0.,  0.,  0.,  0., 64.,  0.,  0.,  0.,  0.,  0.,  0.,  0.,  0.,\n",
       "          0.,  0.,  0.,  0.,  0.,  0.,  0.,  0.,  0.,  0.,  0.,  0.,  0.,\n",
       "          0.,  0.,  0.,  0.,  0.,  0.,  0.,  0.,  0.,  4.,  0.,  0.,  0.,\n",
       "          0.,  0.,  0.,  0.,  0., 16.,  0.,  0.,  0.,  0.,  0.,  0.,  0.,\n",
       "          0.,  0., 16.,  0.,  0.,  0.,  0.,  0.,  0.,  0.,  0.,  0.,  0.,\n",
       "          0.,  0.,  0.,  0.,  0.,  0.,  0.,  0., 84.],\n",
       "        [ 4.,  0.,  0.,  0.,  0.,  0.,  0.,  0., 32.,  0.,  0.,  0.,  0.,\n",
       "          0.,  0.,  0.,  0.,  0., 80.,  0.,  0.,  0.,  0.,  0.,  0.,  0.,\n",
       "          0.,  0.,  0.,  0., 64.,  0.,  0.,  0.,  0.,  0.,  0.,  0.,  0.,\n",
       "          0.,  0.,  0.,  0.,  0.,  0.,  0.,  0.,  0.,  0.,  0.,  0.,  0.,\n",
       "          0.,  0.,  0.,  0.,  0.,  0.,  0.,  0.,  0.,  4.,  0.,  0.,  0.,\n",
       "          0.,  0.,  0.,  0.,  0., 16.,  0.,  0.,  0.,  0.,  0.,  0.,  0.,\n",
       "          0.,  0., 16.,  0.,  0.,  0.,  0.,  0.,  0.,  0.,  0.,  0.,  0.,\n",
       "          0.,  0.,  0.,  0.,  0.,  0.,  0.,  0., 84.],\n",
       "        [ 4.,  0.,  0.,  0.,  0.,  0.,  0.,  0., 32.,  0.,  0.,  0.,  0.,\n",
       "          0.,  0.,  0.,  0.,  0., 80.,  0.,  0.,  0.,  0.,  0.,  0.,  0.,\n",
       "          0.,  0.,  0.,  0., 64.,  0.,  0.,  0.,  0.,  0.,  0.,  0.,  0.,\n",
       "          0.,  0.,  0.,  0.,  0.,  0.,  0.,  0.,  0.,  0.,  0.,  0.,  0.,\n",
       "          0.,  0.,  0.,  0.,  0.,  0.,  0.,  0.,  0.,  4.,  0.,  0.,  0.,\n",
       "          0.,  0.,  0.,  0.,  0., 16.,  0.,  0.,  0.,  0.,  0.,  0.,  0.,\n",
       "          0.,  0., 16.,  0.,  0.,  0.,  0.,  0.,  0.,  0.,  0.,  0.,  0.,\n",
       "          0.,  0.,  0.,  0.,  0.,  0.,  0.,  0., 84.],\n",
       "        [ 4.,  0.,  0.,  0.,  0.,  0.,  0.,  0., 32.,  0.,  0.,  0.,  0.,\n",
       "          0.,  0.,  0.,  0.,  0., 80.,  0.,  0.,  0.,  0.,  0.,  0.,  0.,\n",
       "          0.,  0.,  0.,  0., 64.,  0.,  0.,  0.,  0.,  0.,  0.,  0.,  0.,\n",
       "          0.,  0.,  0.,  0.,  0.,  0.,  0.,  0.,  0.,  0.,  0.,  0.,  0.,\n",
       "          0.,  0.,  0.,  0.,  0.,  0.,  0.,  0.,  0.,  4.,  0.,  0.,  0.,\n",
       "          0.,  0.,  0.,  0.,  0., 16.,  0.,  0.,  0.,  0.,  0.,  0.,  0.,\n",
       "          0.,  0., 16.,  0.,  0.,  0.,  0.,  0.,  0.,  0.,  0.,  0.,  0.,\n",
       "          0.,  0.,  0.,  0.,  0.,  0.,  0.,  0., 84.]]),\n",
       " array([ 317.5943 ,  324.41837,  331.2424 ,  338.06647,  344.89053,\n",
       "         351.7146 ,  358.53864,  365.3627 ,  372.18677,  379.0108 ,\n",
       "         385.83487,  392.65894,  399.48297,  406.30704,  413.1311 ,\n",
       "         419.95514,  426.7792 ,  433.60327,  440.42734,  447.25137,\n",
       "         454.07544,  460.8995 ,  467.72354,  474.5476 ,  481.37167,\n",
       "         488.19574,  495.01978,  501.84384,  508.6679 ,  515.49194,\n",
       "         522.31604,  529.1401 ,  535.9641 ,  542.7882 ,  549.61224,\n",
       "         556.4363 ,  563.2604 ,  570.0844 ,  576.90845,  583.73254,\n",
       "         590.5566 ,  597.3806 ,  604.2047 ,  611.02875,  617.8528 ,\n",
       "         624.6769 ,  631.5009 ,  638.32495,  645.14905,  651.9731 ,\n",
       "         658.7971 ,  665.6212 ,  672.44525,  679.26935,  686.0934 ,\n",
       "         692.9174 ,  699.7415 ,  706.56555,  713.3896 ,  720.2137 ,\n",
       "         727.0377 ,  733.86176,  740.68585,  747.5099 ,  754.3339 ,\n",
       "         761.158  ,  767.98206,  774.8061 ,  781.6302 ,  788.4542 ,\n",
       "         795.2783 ,  802.10236,  808.9264 ,  815.7505 ,  822.5745 ,\n",
       "         829.39856,  836.22266,  843.0467 ,  849.8707 ,  856.6948 ,\n",
       "         863.51886,  870.3429 ,  877.167  ,  883.991  ,  890.81506,\n",
       "         897.63916,  904.4632 ,  911.28723,  918.1113 ,  924.93536,\n",
       "         931.7594 ,  938.5835 ,  945.40753,  952.2316 ,  959.05566,\n",
       "         965.8797 ,  972.7038 ,  979.52783,  986.35187,  993.17596,\n",
       "        1000.     ], dtype=float32),\n",
       " <a list of 10 Lists of Patches objects>)"
      ]
     },
     "execution_count": 97,
     "metadata": {},
     "output_type": "execute_result"
    },
    {
     "data": {
      "image/png": "[encoded data removed]",
      "text/plain": [
       "<Figure size 432x288 with 1 Axes>"
      ]
     },
     "metadata": {
      "needs_background": "light"
     },
     "output_type": "display_data"
    }
   ],
   "source": [
    "frame_data = density_data[0:10]\n",
    "# vertical line at x = 1000\n",
    "plt.axvline(x=1000, color='r', linestyle='--')\n",
    "plt.hist(frame_data, bins=100)\n",
    "# plt.xlim(0, 2000)"
   ]
  },
  {
   "cell_type": "code",
   "execution_count": 104,
   "metadata": {},
   "outputs": [
    {
     "data": {
      "text/plain": [
       "(0.0, 1.0)"
      ]
     },
     "execution_count": 104,
     "metadata": {},
     "output_type": "execute_result"
    },
    {
     "data": {
      "image/png": "[encoded data removed]",
      "text/plain": [
       "<Figure size 432x288 with 1 Axes>"
      ]
     },
     "metadata": {
      "needs_background": "light"
     },
     "output_type": "display_data"
    }
   ],
   "source": [
    "frame_pos_data = [np.linalg.norm(el) for el in pos_data[10]]\n",
    "plt.hist(frame_pos_data, bins=100)\n",
    "plt.xlim(0,1)"
   ]
  },
  {
   "cell_type": "code",
   "execution_count": 101,
   "metadata": {},
   "outputs": [
    {
     "data": {
      "text/plain": [
       "(0.0, 1.0)"
      ]
     },
     "execution_count": 101,
     "metadata": {},
     "output_type": "execute_result"
    },
    {
     "data": {
      "image/png": "[encoded data removed]",
      "text/plain": [
       "<Figure size 432x288 with 1 Axes>"
      ]
     },
     "metadata": {
      "needs_background": "light"
     },
     "output_type": "display_data"
    }
   ],
   "source": [
    "# plot position norm of particles in frame 1 wrt to their density\n",
    "frame_id = 32\n",
    "frame_data = density_data[frame_id]\n",
    "frame_pos_data = [np.linalg.norm(el) for el in pos_data[frame_id]]\n",
    "plt.scatter(frame_pos_data, frame_data, s=0.8)\n",
    "plt.xlim(0, 1)\n",
    "# plt.ylim(0, 1200)"
   ]
  },
  {
   "cell_type": "code",
   "execution_count": null,
   "metadata": {},
   "outputs": [],
   "source": []
  }
 ],
 "metadata": {
  "kernelspec": {
   "display_name": "Python 3.8.3 ('base')",
   "language": "python",
   "name": "python3"
  },
  "language_info": {
   "codemirror_mode": {
    "name": "ipython",
    "version": 3
   },
   "file_extension": ".py",
   "mimetype": "text/x-python",
   "name": "python",
   "nbconvert_exporter": "python",
   "pygments_lexer": "ipython3",
   "version": "3.8.3"
  },
  "orig_nbformat": 4,
  "vscode": {
   "interpreter": {
    "hash": "97ba7e4b8a5d96284671082f6de80e4aa44fbd14449a3596320d6871e1737fa6"
   }
  }
 },
 "nbformat": 4,
 "nbformat_minor": 2
}
